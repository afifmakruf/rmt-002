{
 "cells": [
  {
   "cell_type": "markdown",
   "metadata": {},
   "source": [
    "Non Graded Challenge P0W2NGC1"
   ]
  },
  {
   "cell_type": "code",
   "execution_count": null,
   "metadata": {},
   "outputs": [
    {
     "name": "stdout",
     "output_type": "stream",
     "text": [
      "Total of Unique ID in the customer_id list are: 12\n"
     ]
    }
   ],
   "source": [
    "# TASK 1\n",
    "customer_id = [\n",
    "'B818', 'A461', 'A092', 'A082', 'B341', 'A005', 'A092', 'A461',\n",
    "'B219', 'B904', 'A901', 'A083', 'B904', 'A092', 'B341', 'B821',\n",
    "'B341', 'B821', 'B904', 'B818', 'A901', 'A083', 'B818', 'A082',\n",
    "'B219', 'B219', 'A083', 'A901', 'A082', 'B341', 'B341', 'A083',\n",
    "'A082', 'B219', 'B439', 'A461', 'A005', 'A901', 'B341', 'A082',\n",
    "'A083', 'A461', 'A083', 'A901', 'A461', 'A083', 'A082', 'A083',\n",
    "'B341', 'A901', 'A082', 'A461', 'B219', 'A083', 'B818', 'B821',\n",
    "'A092', 'B341', 'A461', 'A092', 'A083', 'B821', 'A092'\n",
    "]\n",
    "\n",
    "unique_id = set(customer_id)                                                # Mengubah list customer_id menjadi set unique_id agar dapat menghitung jumlah unique pada customer_id\n",
    "print((\"Total of Unique ID in the customer_id list are:\"), len(unique_id))  # Menampilkan jumlah unique id pada set unique_id (awal mulanya customer_id)"
   ]
  },
  {
   "cell_type": "code",
   "execution_count": null,
   "metadata": {},
   "outputs": [
    {
     "name": "stdout",
     "output_type": "stream",
     "text": [
      "16\n",
      "[36, 49, 64, 81]\n",
      "[100, 81, 64, 49, 36, 25, 16, 9, 4, 1]\n"
     ]
    }
   ],
   "source": [
    "# TASK 2\n",
    "Data = [1, 4, 9, 16, 25, 36, 49,  64, 81, 100]\n",
    "\n",
    "# 1\n",
    "Data[3]             # Menentukan data yang mau diambil dari list dengan indeks\n",
    "print(Data[3])      # Menampilkan pengambilan nilai pada indeks ke-3\n",
    "\n",
    "# 2\n",
    "Data[5:9]           # Perintah pengambilan nilai pada indeks ke-5 sampai dengan indeks ke-8\n",
    "print(Data[5:9])    # Menampilkan pengambilan nilai pada indeks ke-5 sampai dengan indeks ke-8\n",
    "# 3\n",
    "Data[-1::-1]        # Perintah pengambilan nilai pada list secara berurutan mulai dari indeks paling besar\n",
    "print(Data[-1::-1]) # Menampilkan pengambilan nilai pada list secara berurutan mulai dari indeks paling besar"
   ]
  },
  {
   "cell_type": "code",
   "execution_count": null,
   "metadata": {},
   "outputs": [
    {
     "name": "stdout",
     "output_type": "stream",
     "text": [
      "dict_keys(['Nanggroe Aceh Darussalam', 'Sumatera Selatan', 'Kalimantan Barat', 'Jawa Timur', 'Sulawesi Selatan', 'Maluku'])\n",
      "dict_items([('Nanggroe Aceh Darussalam', 'Aceh'), ('Sumatera Selatan', 'Palembang'), ('Kalimantan Barat', 'Pontianak'), ('Jawa Timur', 'Surabaya'), ('Sulawesi Selatan', 'Makassar'), ('Maluku', 'Ambon')])\n"
     ]
    }
   ],
   "source": [
    "# TASK 3\n",
    "provinsi = {\n",
    "'Nanggroe Aceh Darussalam': 'Aceh',\n",
    "'Sumatera Selatan': 'Palembang',\n",
    "'Kalimantan Barat': 'Pontianak',\n",
    "'Jawa Timur': 'Madiun',\n",
    "'Sulawesi Selatan': 'Makassar',\n",
    "'Maluku': 'Ambon'}\n",
    "\n",
    "# 1\n",
    "print(provinsi.keys())              # Menampilkan list 'key' dari dictionary provinsi\n",
    "\n",
    "# 2\n",
    "provinsi['Jawa Timur'] = 'Surabaya' # Mengubah value dari 'Jawa Timur' yang mulanya 'Madiun' menjadi 'Surabaya'\n",
    "\n",
    "print(provinsi.items())             # Menampilkan seluruh item dari dictionary provinsi (key beserta value masing-masing)"
   ]
  }
 ],
 "metadata": {
  "kernelspec": {
   "display_name": "Python 3",
   "language": "python",
   "name": "python3"
  },
  "language_info": {
   "codemirror_mode": {
    "name": "ipython",
    "version": 3
   },
   "file_extension": ".py",
   "mimetype": "text/x-python",
   "name": "python",
   "nbconvert_exporter": "python",
   "pygments_lexer": "ipython3",
   "version": "3.9.6"
  }
 },
 "nbformat": 4,
 "nbformat_minor": 2
}
